{
 "cells": [
  {
   "cell_type": "code",
   "execution_count": 4,
   "id": "47aca35b",
   "metadata": {},
   "outputs": [
    {
     "ename": "RuntimeError",
     "evalue": "Found `mongod` version 5.0.8, but only [4.4, 4.5) are compatible. You can suppress this exception by setting your `database_validation` config parameter to `False`. See https://voxel51.com/docs/fiftyone/user_guide/config.html#configuring-a-mongodb-connection for more information",
     "output_type": "error",
     "traceback": [
      "\u001b[0;31m---------------------------------------------------------------------------\u001b[0m",
      "\u001b[0;31mRuntimeError\u001b[0m                              Traceback (most recent call last)",
      "Input \u001b[0;32mIn [4]\u001b[0m, in \u001b[0;36m<cell line: 1>\u001b[0;34m()\u001b[0m\n\u001b[0;32m----> 1\u001b[0m \u001b[38;5;28;01mimport\u001b[39;00m \u001b[38;5;21;01mfiftyone\u001b[39;00m \u001b[38;5;28;01mas\u001b[39;00m \u001b[38;5;21;01mfo\u001b[39;00m\n\u001b[1;32m      3\u001b[0m fo\u001b[38;5;241m.\u001b[39mconfig\u001b[38;5;241m.\u001b[39mdatabase_validation \u001b[38;5;241m=\u001b[39m \u001b[38;5;28;01mFalse\u001b[39;00m\n\u001b[1;32m      5\u001b[0m \u001b[38;5;28;01mimport\u001b[39;00m \u001b[38;5;21;01mfiftyone\u001b[39;00m\u001b[38;5;21;01m.\u001b[39;00m\u001b[38;5;21;01mzoo\u001b[39;00m \u001b[38;5;28;01mas\u001b[39;00m \u001b[38;5;21;01mfoz\u001b[39;00m\n",
      "File \u001b[0;32m~/miniforge3/envs/rover/lib/python3.8/site-packages/fiftyone/__init__.py:25\u001b[0m, in \u001b[0;36m<module>\u001b[0;34m\u001b[0m\n\u001b[1;32m     21\u001b[0m \u001b[38;5;28;01mimport\u001b[39;00m \u001b[38;5;21;01mfiftyone\u001b[39;00m\u001b[38;5;21;01m.\u001b[39;00m\u001b[38;5;21;01mconstants\u001b[39;00m \u001b[38;5;28;01mas\u001b[39;00m \u001b[38;5;21;01m_foc\u001b[39;00m\n\u001b[1;32m     23\u001b[0m __version__ \u001b[38;5;241m=\u001b[39m _foc\u001b[38;5;241m.\u001b[39mVERSION\n\u001b[0;32m---> 25\u001b[0m \u001b[38;5;28;01mfrom\u001b[39;00m \u001b[38;5;21;01mfiftyone\u001b[39;00m\u001b[38;5;21;01m.\u001b[39;00m\u001b[38;5;21;01m__public__\u001b[39;00m \u001b[38;5;28;01mimport\u001b[39;00m \u001b[38;5;241m*\u001b[39m\n\u001b[1;32m     26\u001b[0m \u001b[38;5;28;01mfrom\u001b[39;00m \u001b[38;5;21;01mfiftyone\u001b[39;00m\u001b[38;5;21;01m.\u001b[39;00m\u001b[38;5;21;01mcore\u001b[39;00m\u001b[38;5;21;01m.\u001b[39;00m\u001b[38;5;21;01muid\u001b[39;00m \u001b[38;5;28;01mimport\u001b[39;00m log_import_if_allowed \u001b[38;5;28;01mas\u001b[39;00m _log_import\n\u001b[1;32m     27\u001b[0m \u001b[38;5;28;01mfrom\u001b[39;00m \u001b[38;5;21;01mfiftyone\u001b[39;00m\u001b[38;5;21;01m.\u001b[39;00m\u001b[38;5;21;01mmigrations\u001b[39;00m \u001b[38;5;28;01mimport\u001b[39;00m migrate_database_if_necessary \u001b[38;5;28;01mas\u001b[39;00m _migrate\n",
      "File \u001b[0;32m~/miniforge3/envs/rover/lib/python3.8/site-packages/fiftyone/__public__.py:14\u001b[0m, in \u001b[0;36m<module>\u001b[0;34m\u001b[0m\n\u001b[1;32m     12\u001b[0m annotation_config \u001b[38;5;241m=\u001b[39m foc\u001b[38;5;241m.\u001b[39mload_annotation_config()\n\u001b[1;32m     13\u001b[0m app_config \u001b[38;5;241m=\u001b[39m foc\u001b[38;5;241m.\u001b[39mload_app_config()\n\u001b[0;32m---> 14\u001b[0m \u001b[43mfoo\u001b[49m\u001b[38;5;241;43m.\u001b[39;49m\u001b[43mestablish_db_conn\u001b[49m\u001b[43m(\u001b[49m\u001b[43mconfig\u001b[49m\u001b[43m)\u001b[49m\n\u001b[1;32m     16\u001b[0m \u001b[38;5;28;01mfrom\u001b[39;00m \u001b[38;5;21;01m.\u001b[39;00m\u001b[38;5;21;01mcore\u001b[39;00m\u001b[38;5;21;01m.\u001b[39;00m\u001b[38;5;21;01maggregations\u001b[39;00m \u001b[38;5;28;01mimport\u001b[39;00m (\n\u001b[1;32m     17\u001b[0m     Bounds,\n\u001b[1;32m     18\u001b[0m     Count,\n\u001b[0;32m   (...)\u001b[0m\n\u001b[1;32m     25\u001b[0m     Values,\n\u001b[1;32m     26\u001b[0m )\n\u001b[1;32m     27\u001b[0m \u001b[38;5;28;01mfrom\u001b[39;00m \u001b[38;5;21;01m.\u001b[39;00m\u001b[38;5;21;01mcore\u001b[39;00m\u001b[38;5;21;01m.\u001b[39;00m\u001b[38;5;21;01mconfig\u001b[39;00m \u001b[38;5;28;01mimport\u001b[39;00m AppConfig\n",
      "File \u001b[0;32m~/miniforge3/envs/rover/lib/python3.8/site-packages/fiftyone/core/odm/database.py:128\u001b[0m, in \u001b[0;36mestablish_db_conn\u001b[0;34m(config)\u001b[0m\n\u001b[1;32m    125\u001b[0m         \u001b[38;5;28;01mraise\u001b[39;00m error\n\u001b[1;32m    127\u001b[0m _client \u001b[38;5;241m=\u001b[39m pymongo\u001b[38;5;241m.\u001b[39mMongoClient(\u001b[38;5;241m*\u001b[39m\u001b[38;5;241m*\u001b[39m_connection_kwargs)\n\u001b[0;32m--> 128\u001b[0m \u001b[43m_validate_db_version\u001b[49m\u001b[43m(\u001b[49m\u001b[43mconfig\u001b[49m\u001b[43m,\u001b[49m\u001b[43m \u001b[49m\u001b[43m_client\u001b[49m\u001b[43m)\u001b[49m\n\u001b[1;32m    130\u001b[0m connect(foc\u001b[38;5;241m.\u001b[39mDEFAULT_DATABASE, \u001b[38;5;241m*\u001b[39m\u001b[38;5;241m*\u001b[39m_connection_kwargs)\n",
      "File \u001b[0;32m~/miniforge3/envs/rover/lib/python3.8/site-packages/fiftyone/core/odm/database.py:159\u001b[0m, in \u001b[0;36m_validate_db_version\u001b[0;34m(config, client)\u001b[0m\n\u001b[1;32m    157\u001b[0m min_ver, max_ver \u001b[38;5;241m=\u001b[39m foc\u001b[38;5;241m.\u001b[39mMONGODB_VERSION_RANGE\n\u001b[1;32m    158\u001b[0m \u001b[38;5;28;01mif\u001b[39;00m config\u001b[38;5;241m.\u001b[39mdatabase_validation \u001b[38;5;129;01mand\u001b[39;00m \u001b[38;5;129;01mnot\u001b[39;00m min_ver \u001b[38;5;241m<\u001b[39m\u001b[38;5;241m=\u001b[39m version \u001b[38;5;241m<\u001b[39m max_ver:\n\u001b[0;32m--> 159\u001b[0m     \u001b[38;5;28;01mraise\u001b[39;00m \u001b[38;5;167;01mRuntimeError\u001b[39;00m(\n\u001b[1;32m    160\u001b[0m         \u001b[38;5;124m\"\u001b[39m\u001b[38;5;124mFound `mongod` version \u001b[39m\u001b[38;5;132;01m%s\u001b[39;00m\u001b[38;5;124m, but only [\u001b[39m\u001b[38;5;132;01m%s\u001b[39;00m\u001b[38;5;124m, \u001b[39m\u001b[38;5;132;01m%s\u001b[39;00m\u001b[38;5;124m) are compatible. \u001b[39m\u001b[38;5;124m\"\u001b[39m\n\u001b[1;32m    161\u001b[0m         \u001b[38;5;124m\"\u001b[39m\u001b[38;5;124mYou can suppress this exception by setting your \u001b[39m\u001b[38;5;124m\"\u001b[39m\n\u001b[1;32m    162\u001b[0m         \u001b[38;5;124m\"\u001b[39m\u001b[38;5;124m`database_validation` config parameter to `False`. See \u001b[39m\u001b[38;5;124m\"\u001b[39m\n\u001b[1;32m    163\u001b[0m         \u001b[38;5;124m\"\u001b[39m\u001b[38;5;124mhttps://voxel51.com/docs/fiftyone/user_guide/config.html#configuring-a-mongodb-connection \u001b[39m\u001b[38;5;124m\"\u001b[39m\n\u001b[1;32m    164\u001b[0m         \u001b[38;5;124m\"\u001b[39m\u001b[38;5;124mfor more information\u001b[39m\u001b[38;5;124m\"\u001b[39m \u001b[38;5;241m%\u001b[39m (version, min_ver, max_ver)\n\u001b[1;32m    165\u001b[0m     )\n",
      "\u001b[0;31mRuntimeError\u001b[0m: Found `mongod` version 5.0.8, but only [4.4, 4.5) are compatible. You can suppress this exception by setting your `database_validation` config parameter to `False`. See https://voxel51.com/docs/fiftyone/user_guide/config.html#configuring-a-mongodb-connection for more information"
     ]
    }
   ],
   "source": [
    "import fiftyone as fo\n",
    "import fiftyone.zoo as foz\n",
    "\n",
    "fo.config.database_validation = False\n",
    "\n",
    "dataset = foz.load_zoo_dataset(\"quickstart\")\n",
    "session = fo.launch_app(dataset)"
   ]
  },
  {
   "cell_type": "code",
   "execution_count": null,
   "id": "7e6acaf2",
   "metadata": {},
   "outputs": [],
   "source": []
  }
 ],
 "metadata": {
  "kernelspec": {
   "display_name": "Python 3 (ipykernel)",
   "language": "python",
   "name": "python3"
  },
  "language_info": {
   "codemirror_mode": {
    "name": "ipython",
    "version": 3
   },
   "file_extension": ".py",
   "mimetype": "text/x-python",
   "name": "python",
   "nbconvert_exporter": "python",
   "pygments_lexer": "ipython3",
   "version": "3.8.13"
  }
 },
 "nbformat": 4,
 "nbformat_minor": 5
}
